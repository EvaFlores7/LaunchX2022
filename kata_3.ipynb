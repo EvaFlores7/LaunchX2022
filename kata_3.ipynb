{
 "cells": [
  {
   "cell_type": "code",
   "execution_count": 1,
   "metadata": {},
   "outputs": [
    {
     "name": "stdout",
     "output_type": "stream",
     "text": [
      "Advertencia, un asteroide se aproxima.\n"
     ]
    }
   ],
   "source": [
    "#Ejercicio 1\n",
    "\n",
    "asteroide = 49\n",
    "\n",
    "if asteroide > 25:\n",
    "    print(\"Advertencia, un asteroide se aproxima.\")\n",
    "else:\n",
    "    print(\"Todo normal.\")\n",
    "\n"
   ]
  },
  {
   "cell_type": "code",
   "execution_count": 2,
   "metadata": {},
   "outputs": [
    {
     "name": "stdout",
     "output_type": "stream",
     "text": [
      "Todo normal.\n"
     ]
    }
   ],
   "source": [
    "#Ejercicio 2\n",
    "velocidad_asteroide = 19\n",
    "\n",
    "if velocidad_asteroide > 20:\n",
    "    print(\"Hay una luz enn el cielo, se acerca un asteroide.\")\n",
    "elif velocidad_asteroide == 20:\n",
    "    print(\"Hay una luz enn el cielo, se acerca un asteroide.\")\n",
    "else:\n",
    "    print(\"Todo normal.\")\n"
   ]
  },
  {
   "cell_type": "code",
   "execution_count": 3,
   "metadata": {},
   "outputs": [
    {
     "name": "stdout",
     "output_type": "stream",
     "text": [
      "Se ha producido un rayo de luz, peligro de asteroide.\n"
     ]
    }
   ],
   "source": [
    "#Ejercicio 3\n",
    "\n",
    "velocidad = 25\n",
    "tamano = 30\n",
    "\n",
    "if tamano > 25 and velocidad_asteroide > 25:\n",
    "    print(\"Peligro, un asteroide se acerca.\")\n",
    "elif velocidad >= 20:\n",
    "    print(\"Se ha producido un rayo de luz, peligro de asteroide.\")\n",
    "else:\n",
    "    print(\"Todo normal.\")\n"
   ]
  }
 ],
 "metadata": {
  "interpreter": {
   "hash": "2a45caea3a14dbd9d50249b5c0037a02741656a7e891ad5bda8332e7fdae979c"
  },
  "kernelspec": {
   "display_name": "Python 3.10.2 64-bit",
   "language": "python",
   "name": "python3"
  },
  "language_info": {
   "codemirror_mode": {
    "name": "ipython",
    "version": 3
   },
   "file_extension": ".py",
   "mimetype": "text/x-python",
   "name": "python",
   "nbconvert_exporter": "python",
   "pygments_lexer": "ipython3",
   "version": "3.10.2"
  },
  "orig_nbformat": 4
 },
 "nbformat": 4,
 "nbformat_minor": 2
}
