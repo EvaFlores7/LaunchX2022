{
 "cells": [
  {
   "cell_type": "code",
   "execution_count": null,
   "metadata": {},
   "outputs": [],
   "source": [
    "#Ejercicio 1\n",
    "\n",
    "planeta = {\n",
    "    'name' : 'Marte',\n",
    "    'lunas' : 2\n",
    "}"
   ]
  },
  {
   "cell_type": "code",
   "execution_count": null,
   "metadata": {},
   "outputs": [],
   "source": [
    "print(f'{planeta[\"nombre\"]} tiene {planeta[\"lunas\"]} lunas')"
   ]
  },
  {
   "cell_type": "code",
   "execution_count": null,
   "metadata": {},
   "outputs": [],
   "source": [
    "planeta['circunferencia (km)'] = {\n",
    "    'polar' : 6752, \n",
    "    'ecuatorial' : 6792\n",
    "}"
   ]
  },
  {
   "cell_type": "code",
   "execution_count": null,
   "metadata": {},
   "outputs": [],
   "source": [
    "print(f'{planeta[\"nombre\"]} en el polo tiene una circunferencia de {planeta[\"circunferencia(km)\"][\"polar\"]}')"
   ]
  },
  {
   "cell_type": "code",
   "execution_count": null,
   "metadata": {},
   "outputs": [],
   "source": [
    "#Ejercicio 2\n",
    "\n",
    "lunas = lunas_planetas.values()\n",
    "\n",
    "planetas = len(lunas_planetas.key())"
   ]
  },
  {
   "cell_type": "code",
   "execution_count": null,
   "metadata": {},
   "outputs": [],
   "source": [
    "total_lunas = 0\n",
    "for lunas in lunas:\n",
    "    total_lunas = total_lunas + lunas\n",
    "\n",
    "average = total_lunas / planetas\n",
    "print(average)"
   ]
  }
 ],
 "metadata": {
  "language_info": {
   "name": "python"
  },
  "orig_nbformat": 4
 },
 "nbformat": 4,
 "nbformat_minor": 2
}
